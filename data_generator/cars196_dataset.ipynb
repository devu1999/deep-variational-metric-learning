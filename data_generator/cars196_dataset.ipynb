{
 "cells": [
  {
   "cell_type": "code",
   "execution_count": 1,
   "metadata": {},
   "outputs": [],
   "source": [
    "from fuel.datasets import H5PYDataset\n",
    "from fuel.utils import find_in_data_path\n",
    "from fuel.schemes import SequentialScheme\n",
    "from fuel.streams import DataStream\n",
    "from fuel import config\n",
    "config.data_path = \".\"\n",
    "\n",
    "\n",
    "class Cars196Dataset(H5PYDataset):\n",
    "\n",
    "    _filename = 'data/cars196.hdf5'\n",
    "\n",
    "    def __init__(self, which_sets, **kwargs):\n",
    "        try:\n",
    "            path = find_in_data_path(self._filename)\n",
    "        except IOError as e:\n",
    "            msg = str(e) + (\"\"\".\n",
    "         You need to download the dataset and convert it to hdf5 before.\"\"\")\n",
    "            raise IOError(msg)\n",
    "        super(Cars196Dataset, self).__init__(\n",
    "            file_or_path=path, which_sets=which_sets, **kwargs)\n",
    "\n",
    "\n",
    "def load_as_ndarray(which_sets=['train', 'test']):\n",
    "    datasets = []\n",
    "    for split in which_sets:\n",
    "        data = Cars196Dataset([split], load_in_memory=True).data_sources\n",
    "        datasets.append(data)\n",
    "    return datasets"
   ]
  },
  {
   "cell_type": "code",
   "execution_count": null,
   "metadata": {},
   "outputs": [],
   "source": []
  }
 ],
 "metadata": {
  "kernelspec": {
   "display_name": "Python 3",
   "language": "python",
   "name": "python3"
  },
  "language_info": {
   "codemirror_mode": {
    "name": "ipython",
    "version": 3
   },
   "file_extension": ".py",
   "mimetype": "text/x-python",
   "name": "python",
   "nbconvert_exporter": "python",
   "pygments_lexer": "ipython3",
   "version": "3.6.7"
  }
 },
 "nbformat": 4,
 "nbformat_minor": 4
}
