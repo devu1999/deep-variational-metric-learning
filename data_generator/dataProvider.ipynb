{
 "cells": [
  {
   "cell_type": "code",
   "execution_count": 16,
   "metadata": {},
   "outputs": [],
   "source": [
    "import collections\n",
    "import numpy as np\n",
    "from sklearn.preprocessing import LabelEncoder\n",
    "from fuel.streams import DataStream\n",
    "from fuel.schemes import IterationScheme, BatchSizeScheme, SequentialScheme\n",
    "\n",
    "\n",
    "\n",
    "%run cars196_dataset.ipynb\n",
    "%run dataAugmentation.ipynb\n",
    "\n",
    "def get_streams(batch_size=50, dataset='cars196', method='n_pairs_mc',\n",
    "                crop_size=224, load_in_memory=False):\n",
    "    if dataset == 'cars196':\n",
    "        dataset_class = Cars196Dataset\n",
    "    elif dataset == 'cub200_2011':\n",
    "        dataset_class = Cub200_2011Dataset\n",
    "    elif dataset == 'products':\n",
    "        dataset_class = OnlineProductsDataset\n",
    "    else:\n",
    "        raise ValueError(\n",
    "            \"`dataset` must be 'cars196', 'cub200_2011' or 'products'.\")\n",
    "\n",
    "    dataset_train = dataset_class(['train'], load_in_memory=load_in_memory)\n",
    "    dataset_test = dataset_class(['test'], load_in_memory=load_in_memory)\n",
    "\n",
    "    if not isinstance(crop_size, tuple):\n",
    "        crop_size = (crop_size, crop_size)\n",
    "\n",
    "    stream = DataStream(dataset_train)\n",
    "    stream_train = dataAugmentation(stream, which_sources=('images',),\n",
    "                                       horizontal_mirroring=True,\n",
    "                                       window_shape=crop_size)\n",
    "    return stream_train"
   ]
  },
  {
   "cell_type": "code",
   "execution_count": 18,
   "metadata": {},
   "outputs": [],
   "source": [
    "stream = get_streams()"
   ]
  },
  {
   "cell_type": "code",
   "execution_count": 1,
   "metadata": {},
   "outputs": [],
   "source": [
    "# stream.batch_transformation()"
   ]
  }
 ],
 "metadata": {
  "kernelspec": {
   "display_name": "Python 3",
   "language": "python",
   "name": "python3"
  },
  "language_info": {
   "codemirror_mode": {
    "name": "ipython",
    "version": 3
   },
   "file_extension": ".py",
   "mimetype": "text/x-python",
   "name": "python",
   "nbconvert_exporter": "python",
   "pygments_lexer": "ipython3",
   "version": "3.6.7"
  }
 },
 "nbformat": 4,
 "nbformat_minor": 4
}
